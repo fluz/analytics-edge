{
 "cells": [
  {
   "cell_type": "markdown",
   "metadata": {},
   "source": [
    "# DEMOGRAPHICS AND EMPLOYMENT IN THE UNITED STATES"
   ]
  },
  {
   "cell_type": "code",
   "execution_count": 1,
   "metadata": {
    "collapsed": true
   },
   "outputs": [],
   "source": [
    "%matplotlib inline\n",
    "import pandas as pd\n",
    "import matplotlib.pyplot as plt\n",
    "import numpy as np"
   ]
  },
  {
   "cell_type": "code",
   "execution_count": 2,
   "metadata": {
    "collapsed": true
   },
   "outputs": [],
   "source": [
    "# load dataset\n",
    "CPS = pd.read_csv('./data/CPSData.csv')"
   ]
  },
  {
   "cell_type": "code",
   "execution_count": 3,
   "metadata": {
    "collapsed": false
   },
   "outputs": [
    {
     "data": {
      "text/html": [
       "<div>\n",
       "<table border=\"1\" class=\"dataframe\">\n",
       "  <thead>\n",
       "    <tr style=\"text-align: right;\">\n",
       "      <th></th>\n",
       "      <th>PeopleInHousehold</th>\n",
       "      <th>Region</th>\n",
       "      <th>State</th>\n",
       "      <th>MetroAreaCode</th>\n",
       "      <th>Age</th>\n",
       "      <th>Married</th>\n",
       "      <th>Sex</th>\n",
       "      <th>Education</th>\n",
       "      <th>Race</th>\n",
       "      <th>Hispanic</th>\n",
       "      <th>CountryOfBirthCode</th>\n",
       "      <th>Citizenship</th>\n",
       "      <th>EmploymentStatus</th>\n",
       "      <th>Industry</th>\n",
       "    </tr>\n",
       "  </thead>\n",
       "  <tbody>\n",
       "    <tr>\n",
       "      <th>count</th>\n",
       "      <td>131302.000000</td>\n",
       "      <td>131302</td>\n",
       "      <td>131302</td>\n",
       "      <td>97064.000000</td>\n",
       "      <td>131302.000000</td>\n",
       "      <td>105964</td>\n",
       "      <td>131302</td>\n",
       "      <td>105964</td>\n",
       "      <td>131302</td>\n",
       "      <td>131302.000000</td>\n",
       "      <td>131302.000000</td>\n",
       "      <td>131302</td>\n",
       "      <td>105513</td>\n",
       "      <td>66242</td>\n",
       "    </tr>\n",
       "    <tr>\n",
       "      <th>unique</th>\n",
       "      <td>NaN</td>\n",
       "      <td>4</td>\n",
       "      <td>51</td>\n",
       "      <td>NaN</td>\n",
       "      <td>NaN</td>\n",
       "      <td>5</td>\n",
       "      <td>2</td>\n",
       "      <td>8</td>\n",
       "      <td>6</td>\n",
       "      <td>NaN</td>\n",
       "      <td>NaN</td>\n",
       "      <td>3</td>\n",
       "      <td>5</td>\n",
       "      <td>14</td>\n",
       "    </tr>\n",
       "    <tr>\n",
       "      <th>top</th>\n",
       "      <td>NaN</td>\n",
       "      <td>South</td>\n",
       "      <td>California</td>\n",
       "      <td>NaN</td>\n",
       "      <td>NaN</td>\n",
       "      <td>Married</td>\n",
       "      <td>Female</td>\n",
       "      <td>High school</td>\n",
       "      <td>White</td>\n",
       "      <td>NaN</td>\n",
       "      <td>NaN</td>\n",
       "      <td>Citizen, Native</td>\n",
       "      <td>Employed</td>\n",
       "      <td>Educational and health services</td>\n",
       "    </tr>\n",
       "    <tr>\n",
       "      <th>freq</th>\n",
       "      <td>NaN</td>\n",
       "      <td>41502</td>\n",
       "      <td>11570</td>\n",
       "      <td>NaN</td>\n",
       "      <td>NaN</td>\n",
       "      <td>55509</td>\n",
       "      <td>67481</td>\n",
       "      <td>30906</td>\n",
       "      <td>105921</td>\n",
       "      <td>NaN</td>\n",
       "      <td>NaN</td>\n",
       "      <td>116639</td>\n",
       "      <td>61733</td>\n",
       "      <td>15017</td>\n",
       "    </tr>\n",
       "    <tr>\n",
       "      <th>mean</th>\n",
       "      <td>3.284276</td>\n",
       "      <td>NaN</td>\n",
       "      <td>NaN</td>\n",
       "      <td>35074.709264</td>\n",
       "      <td>38.829226</td>\n",
       "      <td>NaN</td>\n",
       "      <td>NaN</td>\n",
       "      <td>NaN</td>\n",
       "      <td>NaN</td>\n",
       "      <td>0.139328</td>\n",
       "      <td>82.684079</td>\n",
       "      <td>NaN</td>\n",
       "      <td>NaN</td>\n",
       "      <td>NaN</td>\n",
       "    </tr>\n",
       "    <tr>\n",
       "      <th>std</th>\n",
       "      <td>1.700173</td>\n",
       "      <td>NaN</td>\n",
       "      <td>NaN</td>\n",
       "      <td>16551.637597</td>\n",
       "      <td>22.897130</td>\n",
       "      <td>NaN</td>\n",
       "      <td>NaN</td>\n",
       "      <td>NaN</td>\n",
       "      <td>NaN</td>\n",
       "      <td>0.346289</td>\n",
       "      <td>75.476511</td>\n",
       "      <td>NaN</td>\n",
       "      <td>NaN</td>\n",
       "      <td>NaN</td>\n",
       "    </tr>\n",
       "    <tr>\n",
       "      <th>min</th>\n",
       "      <td>1.000000</td>\n",
       "      <td>NaN</td>\n",
       "      <td>NaN</td>\n",
       "      <td>10420.000000</td>\n",
       "      <td>0.000000</td>\n",
       "      <td>NaN</td>\n",
       "      <td>NaN</td>\n",
       "      <td>NaN</td>\n",
       "      <td>NaN</td>\n",
       "      <td>0.000000</td>\n",
       "      <td>57.000000</td>\n",
       "      <td>NaN</td>\n",
       "      <td>NaN</td>\n",
       "      <td>NaN</td>\n",
       "    </tr>\n",
       "    <tr>\n",
       "      <th>25%</th>\n",
       "      <td>2.000000</td>\n",
       "      <td>NaN</td>\n",
       "      <td>NaN</td>\n",
       "      <td>21780.000000</td>\n",
       "      <td>19.000000</td>\n",
       "      <td>NaN</td>\n",
       "      <td>NaN</td>\n",
       "      <td>NaN</td>\n",
       "      <td>NaN</td>\n",
       "      <td>0.000000</td>\n",
       "      <td>57.000000</td>\n",
       "      <td>NaN</td>\n",
       "      <td>NaN</td>\n",
       "      <td>NaN</td>\n",
       "    </tr>\n",
       "    <tr>\n",
       "      <th>50%</th>\n",
       "      <td>3.000000</td>\n",
       "      <td>NaN</td>\n",
       "      <td>NaN</td>\n",
       "      <td>34740.000000</td>\n",
       "      <td>39.000000</td>\n",
       "      <td>NaN</td>\n",
       "      <td>NaN</td>\n",
       "      <td>NaN</td>\n",
       "      <td>NaN</td>\n",
       "      <td>0.000000</td>\n",
       "      <td>57.000000</td>\n",
       "      <td>NaN</td>\n",
       "      <td>NaN</td>\n",
       "      <td>NaN</td>\n",
       "    </tr>\n",
       "    <tr>\n",
       "      <th>75%</th>\n",
       "      <td>4.000000</td>\n",
       "      <td>NaN</td>\n",
       "      <td>NaN</td>\n",
       "      <td>41860.000000</td>\n",
       "      <td>57.000000</td>\n",
       "      <td>NaN</td>\n",
       "      <td>NaN</td>\n",
       "      <td>NaN</td>\n",
       "      <td>NaN</td>\n",
       "      <td>0.000000</td>\n",
       "      <td>57.000000</td>\n",
       "      <td>NaN</td>\n",
       "      <td>NaN</td>\n",
       "      <td>NaN</td>\n",
       "    </tr>\n",
       "    <tr>\n",
       "      <th>max</th>\n",
       "      <td>15.000000</td>\n",
       "      <td>NaN</td>\n",
       "      <td>NaN</td>\n",
       "      <td>79600.000000</td>\n",
       "      <td>85.000000</td>\n",
       "      <td>NaN</td>\n",
       "      <td>NaN</td>\n",
       "      <td>NaN</td>\n",
       "      <td>NaN</td>\n",
       "      <td>1.000000</td>\n",
       "      <td>555.000000</td>\n",
       "      <td>NaN</td>\n",
       "      <td>NaN</td>\n",
       "      <td>NaN</td>\n",
       "    </tr>\n",
       "  </tbody>\n",
       "</table>\n",
       "</div>"
      ],
      "text/plain": [
       "        PeopleInHousehold  Region       State  MetroAreaCode            Age  \\\n",
       "count       131302.000000  131302      131302   97064.000000  131302.000000   \n",
       "unique                NaN       4          51            NaN            NaN   \n",
       "top                   NaN   South  California            NaN            NaN   \n",
       "freq                  NaN   41502       11570            NaN            NaN   \n",
       "mean             3.284276     NaN         NaN   35074.709264      38.829226   \n",
       "std              1.700173     NaN         NaN   16551.637597      22.897130   \n",
       "min              1.000000     NaN         NaN   10420.000000       0.000000   \n",
       "25%              2.000000     NaN         NaN   21780.000000      19.000000   \n",
       "50%              3.000000     NaN         NaN   34740.000000      39.000000   \n",
       "75%              4.000000     NaN         NaN   41860.000000      57.000000   \n",
       "max             15.000000     NaN         NaN   79600.000000      85.000000   \n",
       "\n",
       "        Married     Sex    Education    Race       Hispanic  \\\n",
       "count    105964  131302       105964  131302  131302.000000   \n",
       "unique        5       2            8       6            NaN   \n",
       "top     Married  Female  High school   White            NaN   \n",
       "freq      55509   67481        30906  105921            NaN   \n",
       "mean        NaN     NaN          NaN     NaN       0.139328   \n",
       "std         NaN     NaN          NaN     NaN       0.346289   \n",
       "min         NaN     NaN          NaN     NaN       0.000000   \n",
       "25%         NaN     NaN          NaN     NaN       0.000000   \n",
       "50%         NaN     NaN          NaN     NaN       0.000000   \n",
       "75%         NaN     NaN          NaN     NaN       0.000000   \n",
       "max         NaN     NaN          NaN     NaN       1.000000   \n",
       "\n",
       "        CountryOfBirthCode      Citizenship EmploymentStatus  \\\n",
       "count        131302.000000           131302           105513   \n",
       "unique                 NaN                3                5   \n",
       "top                    NaN  Citizen, Native         Employed   \n",
       "freq                   NaN           116639            61733   \n",
       "mean             82.684079              NaN              NaN   \n",
       "std              75.476511              NaN              NaN   \n",
       "min              57.000000              NaN              NaN   \n",
       "25%              57.000000              NaN              NaN   \n",
       "50%              57.000000              NaN              NaN   \n",
       "75%              57.000000              NaN              NaN   \n",
       "max             555.000000              NaN              NaN   \n",
       "\n",
       "                               Industry  \n",
       "count                             66242  \n",
       "unique                               14  \n",
       "top     Educational and health services  \n",
       "freq                              15017  \n",
       "mean                                NaN  \n",
       "std                                 NaN  \n",
       "min                                 NaN  \n",
       "25%                                 NaN  \n",
       "50%                                 NaN  \n",
       "75%                                 NaN  \n",
       "max                                 NaN  "
      ]
     },
     "execution_count": 3,
     "metadata": {},
     "output_type": "execute_result"
    }
   ],
   "source": [
    "CPS.describe(include='all')"
   ]
  },
  {
   "cell_type": "code",
   "execution_count": 4,
   "metadata": {
    "collapsed": false
   },
   "outputs": [
    {
     "data": {
      "text/plain": [
       "Industry\n",
       "Educational and health services                15017\n",
       "Trade                                           8933\n",
       "Professional and business services              7519\n",
       "Manufacturing                                   6791\n",
       "Leisure and hospitality                         6364\n",
       "Construction                                    4387\n",
       "Financial                                       4347\n",
       "Transportation and utilities                    3260\n",
       "Other services                                  3224\n",
       "Public administration                           3186\n",
       "Information                                     1328\n",
       "Agriculture, forestry, fishing, and hunting     1307\n",
       "Mining                                           550\n",
       "Armed forces                                      29\n",
       "dtype: int64"
      ]
     },
     "execution_count": 4,
     "metadata": {},
     "output_type": "execute_result"
    }
   ],
   "source": [
    "# what is the most common industry of employment?\n",
    "CPS.groupby('Industry').size().sort_values(ascending=False)"
   ]
  },
  {
   "cell_type": "code",
   "execution_count": 5,
   "metadata": {
    "collapsed": false
   },
   "outputs": [
    {
     "data": {
      "text/plain": [
       "State\n",
       "California              11570\n",
       "Texas                    7077\n",
       "New York                 5595\n",
       "Florida                  5149\n",
       "Pennsylvania             3930\n",
       "Illinois                 3912\n",
       "Ohio                     3678\n",
       "Maryland                 3200\n",
       "Minnesota                3139\n",
       "Michigan                 3063\n",
       "Virginia                 2953\n",
       "Colorado                 2925\n",
       "Connecticut              2836\n",
       "Georgia                  2807\n",
       "Wisconsin                2686\n",
       "New Hampshire            2662\n",
       "North Carolina           2619\n",
       "New Jersey               2567\n",
       "Iowa                     2528\n",
       "Washington               2366\n",
       "Maine                    2263\n",
       "Delaware                 2214\n",
       "Rhode Island             2209\n",
       "Missouri                 2145\n",
       "Hawaii                   2099\n",
       "Indiana                  2004\n",
       "South Dakota             2000\n",
       "Massachusetts            1987\n",
       "Nebraska                 1949\n",
       "Oregon                   1943\n",
       "Kansas                   1935\n",
       "Vermont                  1890\n",
       "Nevada                   1856\n",
       "Utah                     1842\n",
       "Kentucky                 1841\n",
       "District of Columbia     1791\n",
       "Tennessee                1784\n",
       "South Carolina           1658\n",
       "North Dakota             1645\n",
       "Wyoming                  1624\n",
       "Alaska                   1590\n",
       "Arizona                  1528\n",
       "Oklahoma                 1523\n",
       "Idaho                    1518\n",
       "Louisiana                1450\n",
       "Arkansas                 1421\n",
       "West Virginia            1409\n",
       "Alabama                  1376\n",
       "Mississippi              1230\n",
       "Montana                  1214\n",
       "New Mexico               1102\n",
       "dtype: int64"
      ]
     },
     "execution_count": 5,
     "metadata": {},
     "output_type": "execute_result"
    }
   ],
   "source": [
    "# sorts the State by the number of interviewees from that region\n",
    "CPS.groupby('State').size().sort_values(ascending=False)"
   ]
  },
  {
   "cell_type": "code",
   "execution_count": 6,
   "metadata": {
    "collapsed": false
   },
   "outputs": [
    {
     "name": "stdout",
     "output_type": "stream",
     "text": [
      "Citizenship\n",
      "Citizen, Native         116639\n",
      "Non-Citizen               7590\n",
      "Citizen, Naturalized      7073\n",
      "dtype: int64\n",
      "0\n"
     ]
    }
   ],
   "source": [
    "# What proportion of interviewees are citizens of the United States?\n",
    "print(CPS.groupby('Citizenship').size().sort_values(ascending=False))\n",
    "TOTAL = 131302\n",
    "citizenship_proportion = (116639 + 7073)/TOTAL\n",
    "print(citizenship_proportion)"
   ]
  },
  {
   "cell_type": "code",
   "execution_count": 7,
   "metadata": {
    "collapsed": false
   },
   "outputs": [
    {
     "name": "stdout",
     "output_type": "stream",
     "text": [
      "Race\n",
      "White               16731\n",
      "Black                 621\n",
      "Multiracial           448\n",
      "American Indian       304\n",
      "Asian                 113\n",
      "Pacific Islander       77\n",
      "dtype: int64\n"
     ]
    }
   ],
   "source": [
    "# For which races are there at least 250 interviewees in the CPS dataset of Hispanic ethnicity?\n",
    "print(CPS[CPS.Hispanic == True].groupby('Race').size().sort_values(ascending=False))\n"
   ]
  },
  {
   "cell_type": "code",
   "execution_count": 8,
   "metadata": {
    "collapsed": false
   },
   "outputs": [
    {
     "name": "stdout",
     "output_type": "stream",
     "text": [
      "Age  Married\n",
      "80   False      2664\n",
      "85   False      2446\n",
      "53   False      1994\n",
      "49   False      1989\n",
      "50   False      1966\n",
      "52   False      1935\n",
      "56   False      1935\n",
      "51   False      1931\n",
      "54   False      1912\n",
      "55   False      1895\n",
      "58   False      1874\n",
      "30   False      1854\n",
      "57   False      1827\n",
      "43   False      1819\n",
      "33   False      1804\n",
      "13   True       1802\n",
      "12   True       1797\n",
      "5    True       1795\n",
      "15   False      1795\n",
      "48   False      1791\n",
      "14   True       1790\n",
      "32   False      1790\n",
      "44   False      1764\n",
      "17   False      1764\n",
      "31   False      1762\n",
      "59   False      1758\n",
      "16   False      1751\n",
      "10   True       1750\n",
      "45   False      1749\n",
      "9    True       1748\n",
      "                ... \n",
      "63   False      1596\n",
      "18   False      1596\n",
      "62   False      1595\n",
      "66   False      1577\n",
      "2    True       1574\n",
      "40   False      1571\n",
      "65   False      1569\n",
      "1    True       1559\n",
      "39   False      1542\n",
      "22   False      1536\n",
      "37   False      1531\n",
      "38   False      1530\n",
      "21   False      1525\n",
      "64   False      1519\n",
      "19   False      1517\n",
      "20   False      1398\n",
      "0    True       1283\n",
      "67   False      1227\n",
      "70   False      1195\n",
      "68   False      1130\n",
      "69   False      1062\n",
      "71   False      1031\n",
      "72   False       941\n",
      "73   False       896\n",
      "74   False       842\n",
      "75   False       763\n",
      "76   False       729\n",
      "77   False       698\n",
      "79   False       661\n",
      "78   False       659\n",
      "dtype: int64\n"
     ]
    }
   ],
   "source": [
    "# Evaluating Missing Values\n",
    "CPS.Married.isnull()\n",
    "print(CPS.groupby(['Age', CPS.Married.isnull()]).size().sort_values(ascending=False))"
   ]
  },
  {
   "cell_type": "code",
   "execution_count": 9,
   "metadata": {
    "collapsed": false
   },
   "outputs": [
    {
     "data": {
      "text/plain": [
       "State\n",
       "California              11570\n",
       "Texas                    7077\n",
       "New York                 5595\n",
       "Florida                  5149\n",
       "Pennsylvania             3930\n",
       "Illinois                 3912\n",
       "Ohio                     3678\n",
       "Maryland                 3200\n",
       "Minnesota                3139\n",
       "Michigan                 3063\n",
       "Virginia                 2953\n",
       "Colorado                 2925\n",
       "Connecticut              2836\n",
       "Georgia                  2807\n",
       "Wisconsin                2686\n",
       "New Hampshire            2662\n",
       "North Carolina           2619\n",
       "New Jersey               2567\n",
       "Iowa                     2528\n",
       "Washington               2366\n",
       "Maine                    2263\n",
       "Delaware                 2214\n",
       "Rhode Island             2209\n",
       "Missouri                 2145\n",
       "Hawaii                   2099\n",
       "Indiana                  2004\n",
       "South Dakota             2000\n",
       "Massachusetts            1987\n",
       "Nebraska                 1949\n",
       "Oregon                   1943\n",
       "Kansas                   1935\n",
       "Vermont                  1890\n",
       "Nevada                   1856\n",
       "Utah                     1842\n",
       "Kentucky                 1841\n",
       "District of Columbia     1791\n",
       "Tennessee                1784\n",
       "South Carolina           1658\n",
       "North Dakota             1645\n",
       "Wyoming                  1624\n",
       "Alaska                   1590\n",
       "Arizona                  1528\n",
       "Oklahoma                 1523\n",
       "Idaho                    1518\n",
       "Louisiana                1450\n",
       "Arkansas                 1421\n",
       "West Virginia            1409\n",
       "Alabama                  1376\n",
       "Mississippi              1230\n",
       "Montana                  1214\n",
       "New Mexico               1102\n",
       "dtype: int64"
      ]
     },
     "execution_count": 9,
     "metadata": {},
     "output_type": "execute_result"
    }
   ],
   "source": [
    "# Living in a Non Metropolitan city\n",
    "CPS[CPS.MetroAreaCode.isnull() == False].groupby('State').size().sort_values(ascending=False)\n",
    "CPS.groupby('State').size().sort_values(ascending=False)"
   ]
  },
  {
   "cell_type": "code",
   "execution_count": 10,
   "metadata": {
    "collapsed": false
   },
   "outputs": [
    {
     "data": {
      "text/plain": [
       "Region\n",
       "Midwest      10674\n",
       "South         9871\n",
       "West          8084\n",
       "Northeast     5609\n",
       "dtype: int64"
      ]
     },
     "execution_count": 10,
     "metadata": {},
     "output_type": "execute_result"
    }
   ],
   "source": [
    "CPS[CPS.MetroAreaCode.isnull() == True].groupby('Region').size().sort_values(ascending=False)"
   ]
  },
  {
   "cell_type": "code",
   "execution_count": 11,
   "metadata": {
    "collapsed": false
   },
   "outputs": [
    {
     "data": {
      "text/plain": [
       "State\n",
       "Indiana      0.291417\n",
       "Wisconsin    0.299330\n",
       "dtype: float64"
      ]
     },
     "execution_count": 11,
     "metadata": {},
     "output_type": "execute_result"
    }
   ],
   "source": [
    "# Which state has a proportion of interviewees living in a non-metropolitan area closest to 30%?\n",
    "non_met = CPS[CPS.MetroAreaCode.isnull() == True].groupby('State').size().sort_values(ascending=False)\n",
    "all_met = CPS.groupby('State').size().sort_values(ascending=False)\n",
    "prop = non_met/all_met\n",
    "\n",
    "prop[(prop >= 0.29) & (prop <= 0.30)]"
   ]
  },
  {
   "cell_type": "code",
   "execution_count": 12,
   "metadata": {
    "collapsed": false
   },
   "outputs": [
    {
     "data": {
      "text/plain": [
       "State\n",
       "Alaska     1.000000\n",
       "Montana    0.836079\n",
       "Wyoming    1.000000\n",
       "dtype: float64"
      ]
     },
     "execution_count": 12,
     "metadata": {},
     "output_type": "execute_result"
    }
   ],
   "source": [
    "prop[(prop >= 0.8) & (prop <= 1.0)]"
   ]
  },
  {
   "cell_type": "code",
   "execution_count": 13,
   "metadata": {
    "collapsed": false
   },
   "outputs": [
    {
     "name": "stdout",
     "output_type": "stream",
     "text": [
      "271\n",
      "149\n"
     ]
    }
   ],
   "source": [
    "metro_area_codes = pd.read_csv('./data/MetroAreaCodes.csv')\n",
    "country_codes = pd.read_csv('./data/CountryCodes.csv')\n",
    "\n",
    "# Number of codes for metropolitan areas\n",
    "print(len(metro_area_codes))\n",
    "\n",
    "# Number of coder for country\n",
    "print(len(country_codes))"
   ]
  },
  {
   "cell_type": "code",
   "execution_count": 14,
   "metadata": {
    "collapsed": false
   },
   "outputs": [
    {
     "data": {
      "text/plain": [
       "34238"
      ]
     },
     "execution_count": 14,
     "metadata": {},
     "output_type": "execute_result"
    }
   ],
   "source": [
    "# Integrating Metropolitan Area Data\n",
    "metro_area_codes['Code'] = metro_area_codes['Code'].astype(float)\n",
    "merged = pd.merge(CPS, metro_area_codes, left_on='MetroAreaCode', right_on='Code', how='outer')\n",
    "\n",
    "# People with missing value on MetroAreaCode. Thanks to outer\n",
    "len(merged[merged['MetroArea'].isnull() == True])"
   ]
  },
  {
   "cell_type": "code",
   "execution_count": 15,
   "metadata": {
    "collapsed": false
   },
   "outputs": [
    {
     "data": {
      "text/plain": [
       "MetroArea\n",
       "New York-Northern New Jersey-Long Island, NY-NJ-PA    5409\n",
       "Washington-Arlington-Alexandria, DC-VA-MD-WV          4177\n",
       "Los Angeles-Long Beach-Santa Ana, CA                  4102\n",
       "Philadelphia-Camden-Wilmington, PA-NJ-DE              2855\n",
       "Chicago-Naperville-Joliet, IN-IN-WI                   2772\n",
       "Providence-Fall River-Warwick, MA-RI                  2284\n",
       "Boston-Cambridge-Quincy, MA-NH                        2229\n",
       "Minneapolis-St Paul-Bloomington, MN-WI                1942\n",
       "Dallas-Fort Worth-Arlington, TX                       1863\n",
       "Houston-Baytown-Sugar Land, TX                        1649\n",
       "Honolulu, HI                                          1576\n",
       "Miami-Fort Lauderdale-Miami Beach, FL                 1554\n",
       "Atlanta-Sandy Springs-Marietta, GA                    1552\n",
       "Denver-Aurora, CO                                     1504\n",
       "Baltimore-Towson, MD                                  1483\n",
       "San Francisco-Oakland-Fremont, CA                     1386\n",
       "Detroit-Warren-Livonia, MI                            1354\n",
       "Las Vegas-Paradise, NV                                1299\n",
       "Riverside-San Bernardino, CA                          1290\n",
       "Seattle-Tacoma-Bellevue, WA                           1255\n",
       "Portland-Vancouver-Beaverton, OR-WA                   1089\n",
       "Phoenix-Mesa-Scottsdale, AZ                            971\n",
       "Kansas City, MO-KS                                     962\n",
       "Omaha-Council Bluffs, NE-IA                            957\n",
       "St. Louis, MO-IL                                       956\n",
       "San Diego-Carlsbad-San Marcos, CA                      907\n",
       "Hartford-West Hartford-East Hartford, CT               885\n",
       "Tampa-St. Petersburg-Clearwater, FL                    842\n",
       "Pittsburgh, PA                                         732\n",
       "Bridgeport-Stamford-Norwalk, CT                        730\n",
       "                                                      ... \n",
       "Napa, CA                                                61\n",
       "Anniston-Oxford, AL                                     61\n",
       "Chico, CA                                               60\n",
       "Columbus, GA-AL                                         59\n",
       "Joplin, MO                                              59\n",
       "Panama City-Lynn Haven, FL                              59\n",
       "Madera, CA                                              57\n",
       "Hickory-Morgantown-Lenoir, NC                           57\n",
       "Vineland-Millville-Bridgeton, NJ                        54\n",
       "Prescott, AZ                                            54\n",
       "Santa Fe, NM                                            52\n",
       "Johnson City, TN                                        52\n",
       "Niles-Benton Harbor, MI                                 51\n",
       "Midland, TX                                             51\n",
       "Punta Gorda, FL                                         48\n",
       "Columbia, MO                                            47\n",
       "Tallahassee, FL                                         43\n",
       "Warner Robins, GA                                       42\n",
       "Valdosta, GA                                            42\n",
       "Bloomington-Normal IL                                   40\n",
       "Springfield, OH                                         34\n",
       "Ocean City, NJ                                          30\n",
       "Bowling Green, KY                                       29\n",
       "Appleton-Oshkosh-Neenah, WI                              1\n",
       "Hinesville-Fort Stewart, GA                              1\n",
       "Greenville-Spartanburg-Anderson, SC                      1\n",
       "Jamestown, NY                                            1\n",
       "Grand Rapids-Muskegon-Holland, MI                        1\n",
       "Portsmouth-Rochester, NH-ME                              1\n",
       "Kalamazoo-Battle Creek, MI                               1\n",
       "dtype: int64"
      ]
     },
     "execution_count": 15,
     "metadata": {},
     "output_type": "execute_result"
    }
   ],
   "source": [
    "# Which metropolitan area has the largest number of interviewees?\n",
    "merged.groupby('MetroArea').size().sort_values(ascending=False)"
   ]
  },
  {
   "cell_type": "code",
   "execution_count": 16,
   "metadata": {
    "collapsed": false
   },
   "outputs": [
    {
     "data": {
      "text/plain": [
       "MetroArea\n",
       "Laredo, TX                               0.966292\n",
       "McAllen-Edinburg-Pharr, TX               0.948718\n",
       "Brownsville-Harlingen, TX                0.797468\n",
       "El Paso, TX                              0.790984\n",
       "El Centro, CA                            0.686869\n",
       "San Antonio, TX                          0.644152\n",
       "Madera, CA                               0.614035\n",
       "Corpus Christi, TX                       0.606061\n",
       "Merced, CA                               0.566038\n",
       "Salinas, CA                              0.557692\n",
       "Las Cruses, NM                           0.542056\n",
       "Tucson, AZ                               0.506623\n",
       "Riverside-San Bernardino, CA             0.502326\n",
       "Bakersfield, CA                          0.489796\n",
       "Miami-Fort Lauderdale-Miami Beach, FL    0.467825\n",
       "Victoria, TX                             0.465517\n",
       "Santa Fe, NM                             0.461538\n",
       "Los Angeles-Long Beach-Santa Ana, CA     0.460263\n",
       "Albuquerque, NM                          0.441708\n",
       "Cape Coral-Fort Myers, FL                0.438356\n",
       "Visalia-Porterville, CA                  0.438017\n",
       "Fresno, CA                               0.409241\n",
       "Vineland-Millville-Bridgeton, NJ         0.407407\n",
       "Santa Barbara-Santa Maria-Goleta, CA     0.401515\n",
       "Killeen-Temple-Fort Hood, TX             0.386139\n",
       "Oxnard-Thousand Oaks-Ventura, CA         0.359551\n",
       "Houston-Baytown-Sugar Land, TX           0.359005\n",
       "Yakima, WA                               0.357143\n",
       "Midland, TX                              0.352941\n",
       "Modesto, CA                              0.341772\n",
       "                                           ...   \n",
       "Knoxville, TN                            0.005952\n",
       "Monroe, LA                               0.005587\n",
       "Dayton, OH                               0.003731\n",
       "Warner Robins, GA                        0.000000\n",
       "Florence, AL                             0.000000\n",
       "Bowling Green, KY                        0.000000\n",
       "Mobile, AL                               0.000000\n",
       "Decatur, IL                              0.000000\n",
       "Anderson, SC                             0.000000\n",
       "Ann Arbor, MI                            0.000000\n",
       "Macon, GA                                0.000000\n",
       "Savannah, GA                             0.000000\n",
       "Johnstown, PA                            0.000000\n",
       "Hagerstown-Martinsburg, MD-WV            0.000000\n",
       "Harrisonburg, VA                         0.000000\n",
       "Eau Claire, WI                           0.000000\n",
       "Huntington-Ashland, WV-KY-OH             0.000000\n",
       "Barnstable Town, MA                      0.000000\n",
       "Huntsville, AL                           0.000000\n",
       "Bloomington-Normal IL                    0.000000\n",
       "Bloomington, IN                          0.000000\n",
       "Jackson, MI                              0.000000\n",
       "Salisbury, MD                            0.000000\n",
       "Appleton-Oshkosh-Neenah, WI                   NaN\n",
       "Grand Rapids-Muskegon-Holland, MI             NaN\n",
       "Greenville-Spartanburg-Anderson, SC           NaN\n",
       "Hinesville-Fort Stewart, GA                   NaN\n",
       "Jamestown, NY                                 NaN\n",
       "Kalamazoo-Battle Creek, MI                    NaN\n",
       "Portsmouth-Rochester, NH-ME                   NaN\n",
       "Name: Hispanic, dtype: float64"
      ]
     },
     "execution_count": 16,
     "metadata": {},
     "output_type": "execute_result"
    }
   ],
   "source": [
    "# Which metropolitan area has the highest proportion of interviewees of Hispanic ethnicity? \n",
    "hispanic = merged.pivot_table(values='Hispanic', columns='MetroArea', aggfunc=np.mean)\n",
    "hispanic.sort_values(ascending=False)"
   ]
  },
  {
   "cell_type": "code",
   "execution_count": 17,
   "metadata": {
    "collapsed": false
   },
   "outputs": [
    {
     "data": {
      "text/plain": [
       "MetroArea\n",
       "Honolulu, HI                                           True\n",
       "San Francisco-Oakland-Fremont, CA                      True\n",
       "San Jose-Sunnyvale-Santa Clara, CA                     True\n",
       "Vallejo-Fairfield, CA                                  True\n",
       "Fresno, CA                                            False\n",
       "Warner Robins, GA                                     False\n",
       "Stockton, CA                                          False\n",
       "Atlantic City, NJ                                     False\n",
       "Sacramento-Arden-Arcade-Roseville, CA                 False\n",
       "San Diego-Carlsbad-San Marcos, CA                     False\n",
       "Los Angeles-Long Beach-Santa Ana, CA                  False\n",
       "Olympia, WA                                           False\n",
       "Salinas, CA                                           False\n",
       "New York-Northern New Jersey-Long Island, NY-NJ-PA    False\n",
       "Seattle-Tacoma-Bellevue, WA                           False\n",
       "Visalia-Porterville, CA                               False\n",
       "Green Bay, WI                                         False\n",
       "La Crosse, WI                                         False\n",
       "Ann Arbor, MI                                         False\n",
       "Bakersfield, CA                                       False\n",
       "Greensboro-High Point, NC                             False\n",
       "Las Vegas-Paradise, NV                                False\n",
       "Minneapolis-St Paul-Bloomington, MN-WI                False\n",
       "Brownsville-Harlingen, TX                             False\n",
       "Bloomington-Normal IL                                 False\n",
       "Oxnard-Thousand Oaks-Ventura, CA                      False\n",
       "Lake Charles, LA                                      False\n",
       "Norwich-New London, CT-RI                             False\n",
       "Atlanta-Sandy Springs-Marietta, GA                    False\n",
       "Washington-Arlington-Alexandria, DC-VA-MD-WV          False\n",
       "                                                      ...  \n",
       "Kalamazoo-Battle Creek, MI                            False\n",
       "Jamestown, NY                                         False\n",
       "Janesville, WI                                        False\n",
       "McAllen-Edinburg-Pharr, TX                            False\n",
       "Florence, AL                                          False\n",
       "Saginaw-Saginaw Township North, MI                    False\n",
       "Port St. Lucie-Fort Pierce, FL                        False\n",
       "Rockford, IL                                          False\n",
       "Roanoke, VA                                           False\n",
       "Columbus, GA-AL                                       False\n",
       "Reading, PA                                           False\n",
       "Johnson City, TN                                      False\n",
       "Punta Gorda, FL                                       False\n",
       "Pueblo, CO                                            False\n",
       "Poughkeepsie-Newburgh-Middletown, NY                  False\n",
       "Decatur, IL                                           False\n",
       "Portsmouth-Rochester, NH-ME                           False\n",
       "Oshkosh-Neenah, WI                                    False\n",
       "Midland, TX                                           False\n",
       "Ocean City, NJ                                        False\n",
       "Niles-Benton Harbor, MI                               False\n",
       "Durham, NC                                            False\n",
       "Eau Claire, WI                                        False\n",
       "Myrtle Beach-Conway-North Myrtle Beach, SC            False\n",
       "El Paso, TX                                           False\n",
       "Erie, PA                                              False\n",
       "Muskegon-Norton Shores, MI                            False\n",
       "Monroe, MI                                            False\n",
       "Farmington, NM                                        False\n",
       "Laredo, TX                                            False\n",
       "Name: Race, dtype: bool"
      ]
     },
     "execution_count": 17,
     "metadata": {},
     "output_type": "execute_result"
    }
   ],
   "source": [
    "# the number of metropolitan areas in the United States from which at least 20% of interviewees are Asian.\n",
    "asian = merged.copy()\n",
    "asian['Race'] = (asian.Race == 'Asian').astype(int)\n",
    "asian = asian.pivot_table(values='Race', columns='MetroArea', aggfunc=np.mean)\n",
    "(asian.sort_values(ascending=False) > 0.20)"
   ]
  },
  {
   "cell_type": "code",
   "execution_count": 25,
   "metadata": {
    "collapsed": false
   },
   "outputs": [
    {
     "data": {
      "text/plain": [
       "MetroArea\n",
       "Grand Rapids-Muskegon-Holland, MI       0.000000\n",
       "Greenville-Spartanburg-Anderson, SC     0.000000\n",
       "Hinesville-Fort Stewart, GA             0.000000\n",
       "Portsmouth-Rochester, NH-ME             0.000000\n",
       "Jamestown, NY                           0.000000\n",
       "Kalamazoo-Battle Creek, MI              0.000000\n",
       "Appleton-Oshkosh-Neenah, WI             0.000000\n",
       "Iowa City, IA                           0.022901\n",
       "Bowling Green, KY                       0.034483\n",
       "Kalamazoo-Portage, MI                   0.039370\n",
       "Champaign-Urbana, IL                    0.040984\n",
       "Bremerton-Silverdale, WA                0.045977\n",
       "Jacksonville, NC                        0.047619\n",
       "Bloomington-Normal IL                   0.050000\n",
       "Lawrence, KS                            0.051020\n",
       "Salisbury, MD                           0.054054\n",
       "Eau Claire, WI                          0.054545\n",
       "Gainesville, FL                         0.057143\n",
       "Fort Collins-Loveland, CO               0.058252\n",
       "Palm Bay-Melbourne-Titusville, FL       0.059524\n",
       "Madison, WI                             0.059859\n",
       "Fargo, ND-MN                            0.060185\n",
       "Altoona, PA                             0.060976\n",
       "Billings, MT                            0.065327\n",
       "Ocean City, NJ                          0.066667\n",
       "Lakeland-Winter Haven, FL               0.067114\n",
       "Albany-Schenectady-Troy, NY             0.067164\n",
       "Coeur d'Alene, ID                       0.068376\n",
       "Asheville, NC                           0.068966\n",
       "Akron, OH                               0.069264\n",
       "                                          ...   \n",
       "Los Angeles-Long Beach-Santa Ana, CA    0.185763\n",
       "Hagerstown-Martinsburg, MD-WV           0.186047\n",
       "Joplin, MO                              0.186441\n",
       "Panama City-Lynn Haven, FL              0.186441\n",
       "Beaumont-Port Author, TX                0.186992\n",
       "Anderson, SC                            0.187500\n",
       "Bakersfield, CA                         0.187755\n",
       "Killeen-Temple-Fort Hood, TX            0.188119\n",
       "Harrisonburg, VA                        0.188889\n",
       "Hickory-Morgantown-Lenoir, NC           0.192982\n",
       "Lafayette, LA                           0.193370\n",
       "Youngstown-Warren-Boardman, OH          0.196078\n",
       "Stockton, CA                            0.196891\n",
       "Brownsville-Harlingen, TX               0.202532\n",
       "Vineland-Millville-Bridgeton, NJ        0.203704\n",
       "Montgomery, AL                          0.203883\n",
       "Tucson, AZ                              0.205298\n",
       "Lawton, OK                              0.216495\n",
       "Lancaster, PA                           0.217949\n",
       "El Paso, TX                             0.225410\n",
       "Corpus Christi, TX                      0.227273\n",
       "Laredo, TX                              0.235955\n",
       "Madera, CA                              0.263158\n",
       "Springfield, OH                         0.264706\n",
       "Florence, AL                            0.269841\n",
       "McAllen-Edinburg-Pharr, TX              0.276923\n",
       "Longview, TX                            0.276923\n",
       "Salinas, CA                             0.288462\n",
       "Kingsport-Bristol, TN-VA                0.298507\n",
       "Macon, GA                               0.307692\n",
       "Name: Education, dtype: float64"
      ]
     },
     "execution_count": 25,
     "metadata": {},
     "output_type": "execute_result"
    }
   ],
   "source": [
    "# which metropolitan area has the smallest proportion of interviewees who have received no high school diploma\n",
    "no_education = merged.copy()\n",
    "no_education['Education'] = (no_education.Education == 'No high school diploma').astype(int)\n",
    "no_education = no_education.pivot_table(values='Education', columns='MetroArea', aggfunc=np.mean)\n",
    "no_education.sort_values(ascending=True)"
   ]
  },
  {
   "cell_type": "code",
   "execution_count": 45,
   "metadata": {
    "collapsed": false
   },
   "outputs": [
    {
     "data": {
      "text/plain": [
       "183"
      ]
     },
     "execution_count": 45,
     "metadata": {},
     "output_type": "execute_result"
    }
   ],
   "source": [
    "merged_country = pd.merge(merged, country_codes, left_on='CountryOfBirthCode', right_on='Code', how='outer')\n",
    "merged_country['Country'].isnull().sum()"
   ]
  },
  {
   "cell_type": "code",
   "execution_count": 46,
   "metadata": {
    "collapsed": false
   },
   "outputs": [
    {
     "data": {
      "text/plain": [
       "Country\n",
       "United States                     115063\n",
       "Mexico                              3921\n",
       "Philippines                          839\n",
       "India                                770\n",
       "China                                581\n",
       "Puerto Rico                          518\n",
       "El Salvador                          477\n",
       "Vietnam                              458\n",
       "Germany                              438\n",
       "Cuba                                 426\n",
       "Canada                               410\n",
       "Korea                                334\n",
       "Dominican Republic                   330\n",
       "Guatemala                            309\n",
       "Jamaica                              217\n",
       "Columbia                             206\n",
       "Honduras                             189\n",
       "Japan                                187\n",
       "England                              179\n",
       "Russia                               173\n",
       "Haiti                                167\n",
       "Poland                               162\n",
       "Brazil                               159\n",
       "Italy                                149\n",
       "Iran                                 144\n",
       "Ecuador                              136\n",
       "Peru                                 136\n",
       "Africa, not specified                129\n",
       "Thailand                             128\n",
       "United Kingdom                       111\n",
       "                                   ...  \n",
       "Kuwait                                10\n",
       "Finland                               10\n",
       "Bahamas                               10\n",
       "Belize                                 9\n",
       "St. Vincent and the Grenadines         9\n",
       "Algeria                                9\n",
       "Americas, not specified                9\n",
       "Fiji                                   9\n",
       "South America, not specified           7\n",
       "St. Lucia                              7\n",
       "Tonga                                  6\n",
       "Denmark                                6\n",
       "Latvia                                 6\n",
       "Samoa                                  6\n",
       "Senegal                                6\n",
       "Singapore                              6\n",
       "Slovakia                               6\n",
       "Barbados                               6\n",
       "Zimbabwe                               6\n",
       "Georgia                                5\n",
       "Czechoslovakia                         3\n",
       "Azerbaijan                             3\n",
       "St. Kitts--Nevis                       3\n",
       "Tanzania                               2\n",
       "Northern Ireland                       2\n",
       "Cyprus                                 1\n",
       "Wales                                  1\n",
       "Kosovo                                 1\n",
       "Other U. S. Island Areas               1\n",
       "Oceania, not specified                 1\n",
       "dtype: int64"
      ]
     },
     "execution_count": 46,
     "metadata": {},
     "output_type": "execute_result"
    }
   ],
   "source": [
    "# Among all interviewees born outside of North America, which country was the most common place of birth?\n",
    "merged_country.groupby('Country').size().sort_values(ascending=False)"
   ]
  },
  {
   "cell_type": "code",
   "execution_count": 62,
   "metadata": {
    "collapsed": false
   },
   "outputs": [
    {
     "data": {
      "text/plain": [
       "0.30866025166543304"
      ]
     },
     "execution_count": 62,
     "metadata": {},
     "output_type": "execute_result"
    }
   ],
   "source": [
    "# What proportion of the interviewees from the \"New York-Northern New Jersey-Long Island, \n",
    "# NY-NJ-PA\" metropolitan area have a country of birth that is not the United States? \n",
    "value_1 = float(len(merged_country[(merged_country['Country'] != 'United States') \n",
    "                   & (merged_country['MetroArea'] == 'New York-Northern New Jersey-Long Island, NY-NJ-PA')\n",
    "                   & (merged_country['Country'].isnull() == False)]))\n",
    "value_2 = float(len(merged_country[(merged_country['Country'] == 'United States') \n",
    "                   & (merged_country['MetroArea'] == 'New York-Northern New Jersey-Long Island, NY-NJ-PA')\n",
    "                   & (merged_country['Country'].isnull() == False)]))\n",
    "value_1/(value_1 + value_2)"
   ]
  },
  {
   "cell_type": "code",
   "execution_count": 69,
   "metadata": {
    "collapsed": false
   },
   "outputs": [
    {
     "data": {
      "text/plain": [
       "MetroArea\n",
       "Boston-Cambridge-Quincy, MA-NH                        18\n",
       "Miami-Fort Lauderdale-Miami Beach, FL                 16\n",
       "Los Angeles-Long Beach-Santa Ana, CA                   9\n",
       "Washington-Arlington-Alexandria, DC-VA-MD-WV           8\n",
       "New York-Northern New Jersey-Long Island, NY-NJ-PA     7\n",
       "Bridgeport-Stamford-Norwalk, CT                        7\n",
       "San Francisco-Oakland-Fremont, CA                      6\n",
       "Danbury, CT                                            5\n",
       "Davenport-Moline-Rock Island, IA-IL                    4\n",
       "Philadelphia-Camden-Wilmington, PA-NJ-DE               4\n",
       "Canton-Massillon, OH                                   3\n",
       "Providence-Fall River-Warwick, MA-RI                   3\n",
       "Phoenix-Mesa-Scottsdale, AZ                            3\n",
       "Salt Lake City, UT                                     3\n",
       "Jacksonville, FL                                       2\n",
       "Barnstable Town, MA                                    2\n",
       "Charlotte-Gastonia-Concord, NC-SC                      2\n",
       "Chicago-Naperville-Joliet, IN-IN-WI                    2\n",
       "Orlando, FL                                            2\n",
       "Sacramento-Arden-Arcade-Roseville, CA                  2\n",
       "Columbia, SC                                           2\n",
       "Dallas-Fort Worth-Arlington, TX                        2\n",
       "Denver-Aurora, CO                                      1\n",
       "Albuquerque, NM                                        1\n",
       "Atlanta-Sandy Springs-Marietta, GA                     1\n",
       "Cape Coral-Fort Myers, FL                              1\n",
       "Cincinnati-Middletown, OH-KY-IN                        1\n",
       "Bremerton-Silverdale, WA                               1\n",
       "Hartford-West Hartford-East Hartford, CT               1\n",
       "Chico, CA                                              1\n",
       "Wichita, KS                                            1\n",
       "Kansas City, MO-KS                                     1\n",
       "Leominster-Fitchburg-Gardner, MA                       1\n",
       "Virginia Beach-Norfolk-Newport News, VA-NC             1\n",
       "Trenton-Ewing, NJ                                      1\n",
       "Tampa-St. Petersburg-Clearwater, FL                    1\n",
       "Seattle-Tacoma-Bellevue, WA                            1\n",
       "San Jose-Sunnyvale-Santa Clara, CA                     1\n",
       "Salem, OR                                              1\n",
       "Rochester, NY                                          1\n",
       "Racine, WI                                             1\n",
       "Pensacola-Ferry Pass-Brent, FL                         1\n",
       "Oxnard-Thousand Oaks-Ventura, CA                       1\n",
       "Montgomery, AL                                         1\n",
       "Monroe, LA                                             1\n",
       "Minneapolis-St Paul-Bloomington, MN-WI                 1\n",
       "Waterbury, CT                                          1\n",
       "Louisville, KY-IN                                      1\n",
       "Akron, OH                                              1\n",
       "dtype: int64"
      ]
     },
     "execution_count": 69,
     "metadata": {},
     "output_type": "execute_result"
    }
   ],
   "source": [
    "merged_country[merged_country.Country == 'Brazil'].groupby('MetroArea').size().sort_values(ascending=False)"
   ]
  },
  {
   "cell_type": "code",
   "execution_count": null,
   "metadata": {
    "collapsed": true
   },
   "outputs": [],
   "source": []
  }
 ],
 "metadata": {
  "kernelspec": {
   "display_name": "Python 2",
   "language": "python",
   "name": "python2"
  },
  "language_info": {
   "codemirror_mode": {
    "name": "ipython",
    "version": 2
   },
   "file_extension": ".py",
   "mimetype": "text/x-python",
   "name": "python",
   "nbconvert_exporter": "python",
   "pygments_lexer": "ipython2",
   "version": "2.7.11"
  }
 },
 "nbformat": 4,
 "nbformat_minor": 0
}
