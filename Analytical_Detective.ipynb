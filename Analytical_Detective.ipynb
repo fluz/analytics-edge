{
 "cells": [
  {
   "cell_type": "markdown",
   "metadata": {},
   "source": [
    "# Analytical Detective"
   ]
  },
  {
   "cell_type": "code",
   "execution_count": 24,
   "metadata": {
    "collapsed": true
   },
   "outputs": [],
   "source": [
    "%matplotlib inline\n",
    "import pandas as pd\n",
    "import matplotlib.pyplot as plt"
   ]
  },
  {
   "cell_type": "code",
   "execution_count": 83,
   "metadata": {
    "collapsed": false
   },
   "outputs": [],
   "source": [
    "# load data\n",
    "mvt = pd.read_csv('./data/mvtWeek1.csv', low_memory=False)"
   ]
  },
  {
   "cell_type": "code",
   "execution_count": 14,
   "metadata": {
    "collapsed": false
   },
   "outputs": [
    {
     "name": "stdout",
     "output_type": "stream",
     "text": [
      "Number of rows: 191641\n",
      "Number of columns: 11\n",
      "Max ID: 9181151\n",
      "Min Beat 111\n",
      "Number of Arrests: 15536\n",
      "Number of Location in Alleys: 2308\n"
     ]
    }
   ],
   "source": [
    "print('Number of rows: %i' % len(mvt))\n",
    "print('Number of columns: %i' %  len(mvt.columns))\n",
    "print('Max ID: %i' %  max(mvt.ID))\n",
    "print('Min Beat %i' %  min(mvt.Beat))\n",
    "print('Number of Arrests: %i' % mvt[mvt.Arrest == True].Arrest.count())\n",
    "print('Number of Location in Alleys: %i' % mvt[mvt.LocationDescription == 'ALLEY'].LocationDescription.count())"
   ]
  },
  {
   "cell_type": "code",
   "execution_count": 15,
   "metadata": {
    "collapsed": false
   },
   "outputs": [
    {
     "name": "stdout",
     "output_type": "stream",
     "text": [
      "Attaching Month to DataFrame\n"
     ]
    }
   ],
   "source": [
    "date_convert = pd.to_datetime(mvt.Date, format=\"%m/%d/%y %H:%M\")\n",
    "print('Attaching Month to DataFrame')\n",
    "mvt['Month'] = date_convert.map(lambda x: x.month)"
   ]
  },
  {
   "cell_type": "code",
   "execution_count": 16,
   "metadata": {
    "collapsed": false
   },
   "outputs": [
    {
     "name": "stdout",
     "output_type": "stream",
     "text": [
      "Attaching Weekday to DataFrame\n"
     ]
    }
   ],
   "source": [
    "print('Attaching Weekday to DataFrame')\n",
    "mvt['Weekday'] = date_convert.map(lambda x: x.weekday())"
   ]
  },
  {
   "cell_type": "code",
   "execution_count": 17,
   "metadata": {
    "collapsed": false
   },
   "outputs": [
    {
     "name": "stdout",
     "output_type": "stream",
     "text": [
      "Min Month with thefts\n",
      "Month\n",
      "1     16047\n",
      "2     13511\n",
      "3     15758\n",
      "4     15280\n",
      "5     16035\n",
      "6     16002\n",
      "7     16801\n",
      "8     16572\n",
      "9     16060\n",
      "10    17086\n",
      "11    16063\n",
      "12    16426\n",
      "dtype: int64\n"
     ]
    }
   ],
   "source": [
    "print('Min Month with thefts')\n",
    "print(mvt.groupby(['Month']).size())"
   ]
  },
  {
   "cell_type": "code",
   "execution_count": 18,
   "metadata": {
    "collapsed": false
   },
   "outputs": [
    {
     "name": "stdout",
     "output_type": "stream",
     "text": [
      "Min Weekday with thefts\n",
      "Weekday\n",
      "0    27397\n",
      "1    26791\n",
      "2    27416\n",
      "3    27319\n",
      "4    29284\n",
      "5    27118\n",
      "6    26316\n",
      "dtype: int64\n"
     ]
    }
   ],
   "source": [
    "print('Min Weekday with thefts')\n",
    "print(mvt.groupby(['Weekday']).size())"
   ]
  },
  {
   "cell_type": "code",
   "execution_count": 19,
   "metadata": {
    "collapsed": true
   },
   "outputs": [],
   "source": [
    "mvt['Date'] = date_convert"
   ]
  },
  {
   "cell_type": "code",
   "execution_count": 20,
   "metadata": {
    "collapsed": false
   },
   "outputs": [
    {
     "name": "stdout",
     "output_type": "stream",
     "text": [
      "Get the month with maximum thefts with arrests\n",
      "Month\n",
      "1     1435\n",
      "2     1238\n",
      "3     1298\n",
      "4     1252\n",
      "5     1187\n",
      "6     1230\n",
      "7     1324\n",
      "8     1329\n",
      "9     1248\n",
      "10    1342\n",
      "11    1256\n",
      "12    1397\n",
      "dtype: int64\n"
     ]
    }
   ],
   "source": [
    "print('Get the month with maximum thefts with arrests')\n",
    "arrests = mvt[mvt.Arrest == True]\n",
    "m = arrests.groupby('Month')\n",
    "print(m.Month.size())"
   ]
  },
  {
   "cell_type": "code",
   "execution_count": 26,
   "metadata": {
    "collapsed": false
   },
   "outputs": [
    {
     "data": {
      "text/plain": [
       "<matplotlib.axes._subplots.AxesSubplot at 0x112fcf6d8>"
      ]
     },
     "execution_count": 26,
     "metadata": {},
     "output_type": "execute_result"
    },
    {
     "data": {
      "image/png": "[encoded data removed]",
      "text/plain": [
       "<matplotlib.figure.Figure at 0x111b7f6d8>"
      ]
     },
     "metadata": {},
     "output_type": "display_data"
    }
   ],
   "source": [
    "mvt.set_index(['Date'], drop=False, inplace=True)\n",
    "# mvt.plot.hist(bins=100)\n",
    "mvt.groupby(pd.TimeGrouper(freq='12M')).count().plot(kind='bar', legend=False, rot=45)"
   ]
  },
  {
   "cell_type": "code",
   "execution_count": 36,
   "metadata": {
    "collapsed": false
   },
   "outputs": [
    {
     "name": "stdout",
     "output_type": "stream",
     "text": [
      "Arrest  Year\n",
      "False   2001    18517\n",
      "        2002    16638\n",
      "        2003    14859\n",
      "        2004    15169\n",
      "        2005    14956\n",
      "        2006    14796\n",
      "        2007    13068\n",
      "        2008    13425\n",
      "        2009    11327\n",
      "        2010    14796\n",
      "        2011    15012\n",
      "        2012    13542\n",
      "True    2001     2152\n",
      "        2002     2115\n",
      "        2003     1798\n",
      "        2004     1693\n",
      "        2005     1528\n",
      "        2006     1302\n",
      "        2007     1212\n",
      "        2008     1020\n",
      "        2009      840\n",
      "        2010      701\n",
      "        2011      625\n",
      "        2012      550\n",
      "dtype: int64\n",
      "0.10411727708161982\n"
     ]
    }
   ],
   "source": [
    "print(mvt.groupby(['Arrest', 'Year']).size())\n",
    "arrest_2001 = 2152\n",
    "no_arrest_2001 = 18517\n",
    "TOTAL = arrest_2001 + no_arrest_2001\n",
    "print(2152 / TOTAL)"
   ]
  },
  {
   "cell_type": "code",
   "execution_count": 37,
   "metadata": {
    "collapsed": false
   },
   "outputs": [
    {
     "name": "stdout",
     "output_type": "stream",
     "text": [
      "0.08487394957983194\n"
     ]
    }
   ],
   "source": [
    "arrest_2007 = 1212\n",
    "no_arrest_2007 = 13068\n",
    "TOTAL = arrest_2007 + no_arrest_2007\n",
    "print(arrest_2007 / TOTAL)"
   ]
  },
  {
   "cell_type": "code",
   "execution_count": 38,
   "metadata": {
    "collapsed": false
   },
   "outputs": [
    {
     "name": "stdout",
     "output_type": "stream",
     "text": [
      "0.03902923644621062\n"
     ]
    }
   ],
   "source": [
    "arrest_2012 = 550\n",
    "no_arrest_2012 = 13542\n",
    "TOTAL = arrest_2012 + no_arrest_2012\n",
    "print(arrest_2012 / TOTAL)"
   ]
  },
  {
   "cell_type": "code",
   "execution_count": 47,
   "metadata": {
    "collapsed": false
   },
   "outputs": [
    {
     "name": "stdout",
     "output_type": "stream",
     "text": [
      "LocationDescription\n",
      "STREET                                             156564\n",
      "PARKING LOT/GARAGE(NON.RESID.)                      14852\n",
      "OTHER                                                4573\n",
      "ALLEY                                                2308\n",
      "GAS STATION                                          2111\n",
      "DRIVEWAY - RESIDENTIAL                               1675\n",
      "RESIDENTIAL YARD (FRONT/BACK)                        1536\n",
      "RESIDENCE                                            1302\n",
      "RESIDENCE-GARAGE                                     1176\n",
      "VACANT LOT/LAND                                       985\n",
      "VEHICLE NON-COMMERCIAL                                817\n",
      "SIDEWALK                                              462\n",
      "CHA PARKING LOT/GROUNDS                               405\n",
      "AIRPORT/AIRCRAFT                                      363\n",
      "POLICE FACILITY/VEH PARKING LOT                       266\n",
      "PARK PROPERTY                                         255\n",
      "SCHOOL, PUBLIC, GROUNDS                               206\n",
      "APARTMENT                                             184\n",
      "SPORTS ARENA/STADIUM                                  166\n",
      "CTA GARAGE / OTHER PROPERTY                           148\n",
      "COMMERCIAL / BUSINESS OFFICE                          126\n",
      "HOTEL/MOTEL                                           124\n",
      "SCHOOL, PUBLIC, BUILDING                              114\n",
      "HOSPITAL BUILDING/GROUNDS                             101\n",
      "GROCERY FOOD STORE                                     80\n",
      "CHURCH/SYNAGOGUE/PLACE OF WORSHIP                      56\n",
      "RESTAURANT                                             49\n",
      "GOVERNMENT BUILDING/PROPERTY                           48\n",
      "COLLEGE/UNIVERSITY GROUNDS                             47\n",
      "CAR WASH                                               44\n",
      "                                                    ...  \n",
      "AIRPORT VENDING ESTABLISHMENT                          10\n",
      "ATHLETIC CLUB                                           9\n",
      "DRUG STORE                                              8\n",
      "OTHER COMMERCIAL TRANSPORTATION                         8\n",
      "BANK                                                    7\n",
      "CONVENIENCE STORE                                       7\n",
      "FOREST PRESERVE                                         6\n",
      "CHA APARTMENT                                           5\n",
      "AIRPORT TERMINAL UPPER LEVEL - NON-SECURE AREA          5\n",
      "DAY CARE CENTER                                         5\n",
      "FIRE STATION                                            5\n",
      "ABANDONED BUILDING                                      4\n",
      "LAKEFRONT/WATERFRONT/RIVERBANK                          4\n",
      "AIRPORT BUILDING NON-TERMINAL - NON-SECURE AREA         4\n",
      "SAVINGS AND LOAN                                        4\n",
      "BARBERSHOP                                              4\n",
      "LIBRARY                                                 4\n",
      "MEDICAL/DENTAL OFFICE                                   3\n",
      "CLEANING STORE                                          3\n",
      "BOWLING ALLEY                                           3\n",
      "COLLEGE/UNIVERSITY RESIDENCE HALL                       2\n",
      "CURRENCY EXCHANGE                                       2\n",
      "BRIDGE                                                  2\n",
      "ANIMAL HOSPITAL                                         1\n",
      "APPLIANCE STORE                                         1\n",
      "NEWSSTAND                                               1\n",
      "AIRPORT EXTERIOR - SECURE AREA                          1\n",
      "AIRPORT BUILDING NON-TERMINAL - SECURE AREA             1\n",
      "CTA TRAIN                                               1\n",
      "JAIL / LOCK-UP FACILITY                                 1\n",
      "dtype: int64\n"
     ]
    }
   ],
   "source": [
    "print(mvt.groupby('LocationDescription').size().sort_values(ascending=False))"
   ]
  },
  {
   "cell_type": "code",
   "execution_count": 57,
   "metadata": {
    "collapsed": true
   },
   "outputs": [],
   "source": [
    "top5 = mvt.loc[(mvt.LocationDescription == 'STREET') | (mvt.LocationDescription == 'PARKING LOT/GARAGE(NON.RESID.)') \\\n",
    "               | (mvt.LocationDescription == 'ALLEY') | (mvt.LocationDescription == 'GAS STATION') \\\n",
    "               | (mvt.LocationDescription == 'DRIVEWAY - RESIDENTIAL')]"
   ]
  },
  {
   "cell_type": "code",
   "execution_count": 59,
   "metadata": {
    "collapsed": false
   },
   "outputs": [
    {
     "data": {
      "text/plain": [
       "177510"
      ]
     },
     "execution_count": 59,
     "metadata": {},
     "output_type": "execute_result"
    }
   ],
   "source": [
    "len(top5)"
   ]
  },
  {
   "cell_type": "code",
   "execution_count": 60,
   "metadata": {
    "collapsed": false
   },
   "outputs": [
    {
     "name": "stdout",
     "output_type": "stream",
     "text": [
      "LocationDescription\n",
      "STREET                            156564\n",
      "PARKING LOT/GARAGE(NON.RESID.)     14852\n",
      "ALLEY                               2308\n",
      "GAS STATION                         2111\n",
      "DRIVEWAY - RESIDENTIAL              1675\n",
      "dtype: int64\n"
     ]
    }
   ],
   "source": [
    "print(top5.groupby('LocationDescription').size().sort_values(ascending=False))"
   ]
  },
  {
   "cell_type": "code",
   "execution_count": 76,
   "metadata": {
    "collapsed": false
   },
   "outputs": [
    {
     "name": "stdout",
     "output_type": "stream",
     "text": [
      "LocationDescription             Arrest\n",
      "ALLEY                           False       2059\n",
      "                                True         249\n",
      "DRIVEWAY - RESIDENTIAL          False       1543\n",
      "                                True         132\n",
      "GAS STATION                     False       1672\n",
      "                                True         439\n",
      "PARKING LOT/GARAGE(NON.RESID.)  False      13249\n",
      "                                True        1603\n",
      "STREET                          False     144969\n",
      "                                True       11595\n",
      "dtype: int64\n",
      "\n"
     ]
    }
   ],
   "source": [
    "print(top5.groupby(['LocationDescription', 'Arrest']).size())\n",
    "print()"
   ]
  },
  {
   "cell_type": "code",
   "execution_count": 78,
   "metadata": {
    "collapsed": false
   },
   "outputs": [
    {
     "name": "stdout",
     "output_type": "stream",
     "text": [
      "GAS STATION\n",
      "0.2079583135954524\n"
     ]
    }
   ],
   "source": [
    "print(\"GAS STATION\")\n",
    "print(439/(439 + 1672))"
   ]
  },
  {
   "cell_type": "code",
   "execution_count": 80,
   "metadata": {
    "collapsed": false
   },
   "outputs": [
    {
     "name": "stdout",
     "output_type": "stream",
     "text": [
      "Weekday\n",
      "0    280\n",
      "1    270\n",
      "2    273\n",
      "3    282\n",
      "4    332\n",
      "5    338\n",
      "6    336\n",
      "dtype: int64\n"
     ]
    }
   ],
   "source": [
    "gas_station = top5.loc[(top5.LocationDescription == 'GAS STATION')]\n",
    "print(gas_station.groupby(['Weekday']).size())"
   ]
  },
  {
   "cell_type": "code",
   "execution_count": 82,
   "metadata": {
    "collapsed": false
   },
   "outputs": [
    {
     "name": "stdout",
     "output_type": "stream",
     "text": [
      "Weekday\n",
      "5    202\n",
      "6    221\n",
      "2    234\n",
      "1    243\n",
      "0    255\n",
      "4    257\n",
      "3    263\n",
      "dtype: int64\n"
     ]
    }
   ],
   "source": [
    "res = top5.loc[(top5.LocationDescription == 'DRIVEWAY - RESIDENTIAL')]\n",
    "print(res.groupby(['Weekday']).size().sort_values())"
   ]
  },
  {
   "cell_type": "code",
   "execution_count": null,
   "metadata": {
    "collapsed": true
   },
   "outputs": [],
   "source": []
  }
 ],
 "metadata": {
  "celltoolbar": "Raw Cell Format",
  "kernelspec": {
   "display_name": "Python 3",
   "language": "python",
   "name": "python3"
  },
  "language_info": {
   "codemirror_mode": {
    "name": "ipython",
    "version": 3
   },
   "file_extension": ".py",
   "mimetype": "text/x-python",
   "name": "python",
   "nbconvert_exporter": "python",
   "pygments_lexer": "ipython3",
   "version": "3.4.4"
  }
 },
 "nbformat": 4,
 "nbformat_minor": 0
}
